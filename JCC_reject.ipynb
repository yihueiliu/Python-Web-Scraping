{
 "cells": [
  {
   "cell_type": "code",
   "execution_count": null,
   "metadata": {},
   "outputs": [],
   "source": [
    "'''\n",
    "司法院大法官 -> 解釋及不受理決議 -> 不受理決議\n",
    "\n",
    "範例連結: https://cons.judicial.gov.tw/jcc/zh-tw/rrp04?page=1\n",
    "'''\n",
    "import requests, json\n",
    "from bs4 import BeautifulSoup\n",
    "\n",
    "listData = []\n",
    "\n",
    "# 取得 table 中的列表連結\n",
    "def getListItems():\n",
    "    for page in range(1, 2):\n",
    "        response = requests.get(f\"https://cons.judicial.gov.tw/jcc/zh-tw/rrp04?page={page}\")\n",
    "        soup = BeautifulSoup(response.text, 'lxml')\n",
    "        a_elms = soup.select(\"table.blocky_body.form_table.form_table_second.sm-responsive tbody tr td[data-head='案號'] a\")  #本來是class=\"blocky_body form_table form_table_second sm-responsive\"，引號裡面的空白鍵要改成.\n",
    "        for a in a_elms:\n",
    "            listData.append({\n",
    "                \"title\": a.get_text(),\n",
    "                \"link\": \"https://cons.judicial.gov.tw\" + a[\"href\"]\n",
    "            })\n",
    "\n",
    "# 根據先前儲存的列表連結，爬出需要的資訊\n",
    "def getItemDetail():\n",
    "    for index, articleDict in enumerate(listData):\n",
    "        response = requests.get(articleDict['link'])\n",
    "        soup = BeautifulSoup(response.text, 'lxml')\n",
    "        pre_elms = soup.select('div.item.title-w-8 pre.content.pure_text')\n",
    "        listData[index][0] = pre_elms[0].get_text()  #listData[index][0]: 在listData[index]這個dict裡面新增一個key為0的項目，value為pre_elms[0].get_text()\n",
    "        listData[index][1] = pre_elms[1].get_text()\n",
    "        listData[index][2] = pre_elms[2].get_text()\n",
    "        listData[index][3] = pre_elms[3].get_text()\n",
    "        listData[index][4] = pre_elms[4].get_text()\n",
    "        listData[index][5] = pre_elms[5].get_text()\n",
    "        listData[index][6] = pre_elms[6].get_text()\n",
    "\n",
    "# 將所有資訊轉成 JSON 檔\n",
    "def saveJson():\n",
    "    fp = open(\"JCC_reject.json\", \"w\", encoding=\"utf-8\") #\"w\" for write\n",
    "    fp.write( json.dumps(listData, ensure_ascii=False) )  #dumps: 從變數轉為字串  #ensure_ascii=False: 免得有些中文字變亂碼\n",
    "    fp.close()\n",
    "\n",
    "# 主程式區段\n",
    "if __name__ == \"__main__\":\n",
    "    getListItems()\n",
    "    getItemDetail()\n",
    "    saveJson()\n",
    "        "
   ]
  }
 ],
 "metadata": {
  "kernelspec": {
   "display_name": "Python 3",
   "language": "python",
   "name": "python3"
  },
  "language_info": {
   "codemirror_mode": {
    "name": "ipython",
    "version": 3
   },
   "file_extension": ".py",
   "mimetype": "text/x-python",
   "name": "python",
   "nbconvert_exporter": "python",
   "pygments_lexer": "ipython3",
   "version": "3.6.12"
  }
 },
 "nbformat": 4,
 "nbformat_minor": 4
}
